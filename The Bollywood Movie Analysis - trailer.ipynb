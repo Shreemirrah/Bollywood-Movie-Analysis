{
 "cells": [
  {
   "cell_type": "markdown",
   "id": "484e3657",
   "metadata": {},
   "source": [
    "### TRAILER ANALYSIS : ANALYSIING THE EMOTIONS OF THE MALE AND FEMALE CHARACTERS"
   ]
  },
  {
   "cell_type": "markdown",
   "id": "f4e68f60",
   "metadata": {},
   "source": [
    "#### Importing the required header files and accessing the file : "
   ]
  },
  {
   "cell_type": "code",
   "execution_count": 2,
   "id": "8784377f",
   "metadata": {},
   "outputs": [],
   "source": [
    "import matplotlib.pyplot as plt\n",
    "import numpy as np\n",
    "import pandas as pd\n",
    "MyData = pd.read_csv(r\"C:\\Users\\LENOVO\\Downloads\\complete-data.csv\")"
   ]
  },
  {
   "cell_type": "markdown",
   "id": "f06c5de8",
   "metadata": {},
   "source": [
    "#### Getting to know the number of rows and columns : "
   ]
  },
  {
   "cell_type": "code",
   "execution_count": 3,
   "id": "299c6557",
   "metadata": {},
   "outputs": [
    {
     "data": {
      "text/plain": [
       "(32197, 5)"
      ]
     },
     "execution_count": 3,
     "metadata": {},
     "output_type": "execute_result"
    }
   ],
   "source": [
    "MyData.shape"
   ]
  },
  {
   "cell_type": "code",
   "execution_count": 21,
   "id": "de387a55",
   "metadata": {},
   "outputs": [
    {
     "data": {
      "text/html": [
       "<div>\n",
       "<style scoped>\n",
       "    .dataframe tbody tr th:only-of-type {\n",
       "        vertical-align: middle;\n",
       "    }\n",
       "\n",
       "    .dataframe tbody tr th {\n",
       "        vertical-align: top;\n",
       "    }\n",
       "\n",
       "    .dataframe thead th {\n",
       "        text-align: right;\n",
       "    }\n",
       "</style>\n",
       "<table border=\"1\" class=\"dataframe\">\n",
       "  <thead>\n",
       "    <tr style=\"text-align: right;\">\n",
       "      <th></th>\n",
       "      <th>frame_number</th>\n",
       "      <th>gender</th>\n",
       "      <th>emotion</th>\n",
       "      <th>year</th>\n",
       "      <th>movie_name</th>\n",
       "    </tr>\n",
       "  </thead>\n",
       "  <tbody>\n",
       "    <tr>\n",
       "      <th>0</th>\n",
       "      <td>28</td>\n",
       "      <td>woman</td>\n",
       "      <td>happy</td>\n",
       "      <td>2014</td>\n",
       "      <td>dedh_ishqiya</td>\n",
       "    </tr>\n",
       "    <tr>\n",
       "      <th>1</th>\n",
       "      <td>62</td>\n",
       "      <td>woman</td>\n",
       "      <td>happy</td>\n",
       "      <td>2014</td>\n",
       "      <td>dedh_ishqiya</td>\n",
       "    </tr>\n",
       "    <tr>\n",
       "      <th>2</th>\n",
       "      <td>60</td>\n",
       "      <td>man</td>\n",
       "      <td>angry</td>\n",
       "      <td>2014</td>\n",
       "      <td>dedh_ishqiya</td>\n",
       "    </tr>\n",
       "    <tr>\n",
       "      <th>3</th>\n",
       "      <td>60</td>\n",
       "      <td>man</td>\n",
       "      <td>sad</td>\n",
       "      <td>2014</td>\n",
       "      <td>dedh_ishqiya</td>\n",
       "    </tr>\n",
       "    <tr>\n",
       "      <th>4</th>\n",
       "      <td>60</td>\n",
       "      <td>man</td>\n",
       "      <td>angry</td>\n",
       "      <td>2014</td>\n",
       "      <td>dedh_ishqiya</td>\n",
       "    </tr>\n",
       "    <tr>\n",
       "      <th>...</th>\n",
       "      <td>...</td>\n",
       "      <td>...</td>\n",
       "      <td>...</td>\n",
       "      <td>...</td>\n",
       "      <td>...</td>\n",
       "    </tr>\n",
       "    <tr>\n",
       "      <th>32192</th>\n",
       "      <td>18</td>\n",
       "      <td>man</td>\n",
       "      <td>happy</td>\n",
       "      <td>2016</td>\n",
       "      <td>housefull_3</td>\n",
       "    </tr>\n",
       "    <tr>\n",
       "      <th>32193</th>\n",
       "      <td>25</td>\n",
       "      <td>man</td>\n",
       "      <td>neutral</td>\n",
       "      <td>2016</td>\n",
       "      <td>housefull_3</td>\n",
       "    </tr>\n",
       "    <tr>\n",
       "      <th>32194</th>\n",
       "      <td>25</td>\n",
       "      <td>man</td>\n",
       "      <td>neutral</td>\n",
       "      <td>2016</td>\n",
       "      <td>housefull_3</td>\n",
       "    </tr>\n",
       "    <tr>\n",
       "      <th>32195</th>\n",
       "      <td>25</td>\n",
       "      <td>man</td>\n",
       "      <td>happy</td>\n",
       "      <td>2016</td>\n",
       "      <td>housefull_3</td>\n",
       "    </tr>\n",
       "    <tr>\n",
       "      <th>32196</th>\n",
       "      <td>31</td>\n",
       "      <td>man</td>\n",
       "      <td>surprise</td>\n",
       "      <td>2016</td>\n",
       "      <td>housefull_3</td>\n",
       "    </tr>\n",
       "  </tbody>\n",
       "</table>\n",
       "<p>32197 rows × 5 columns</p>\n",
       "</div>"
      ],
      "text/plain": [
       "       frame_number gender   emotion  year    movie_name\n",
       "0                28  woman     happy  2014  dedh_ishqiya\n",
       "1                62  woman     happy  2014  dedh_ishqiya\n",
       "2                60    man     angry  2014  dedh_ishqiya\n",
       "3                60    man       sad  2014  dedh_ishqiya\n",
       "4                60    man     angry  2014  dedh_ishqiya\n",
       "...             ...    ...       ...   ...           ...\n",
       "32192            18    man     happy  2016   housefull_3\n",
       "32193            25    man   neutral  2016   housefull_3\n",
       "32194            25    man   neutral  2016   housefull_3\n",
       "32195            25    man     happy  2016   housefull_3\n",
       "32196            31    man  surprise  2016   housefull_3\n",
       "\n",
       "[32197 rows x 5 columns]"
      ]
     },
     "execution_count": 21,
     "metadata": {},
     "output_type": "execute_result"
    }
   ],
   "source": [
    "MyData.head(32197)"
   ]
  },
  {
   "cell_type": "markdown",
   "id": "21d52c23",
   "metadata": {},
   "source": [
    "#### Checking for NULL VALUES"
   ]
  },
  {
   "cell_type": "code",
   "execution_count": 22,
   "id": "689a3984",
   "metadata": {},
   "outputs": [
    {
     "data": {
      "text/plain": [
       "frame_number    0\n",
       "gender          0\n",
       "emotion         0\n",
       "year            0\n",
       "movie_name      0\n",
       "dtype: int64"
      ]
     },
     "execution_count": 22,
     "metadata": {},
     "output_type": "execute_result"
    }
   ],
   "source": [
    "MyData.isnull().sum()"
   ]
  },
  {
   "cell_type": "code",
   "execution_count": 4,
   "id": "b95e1827",
   "metadata": {},
   "outputs": [
    {
     "name": "stdout",
     "output_type": "stream",
     "text": [
      "      gender   emotion\n",
      "0      woman     happy\n",
      "1      woman     happy\n",
      "2        man     angry\n",
      "3        man       sad\n",
      "4        man     angry\n",
      "...      ...       ...\n",
      "32192    man     happy\n",
      "32193    man   neutral\n",
      "32194    man   neutral\n",
      "32195    man     happy\n",
      "32196    man  surprise\n",
      "\n",
      "[32197 rows x 2 columns]\n"
     ]
    }
   ],
   "source": [
    "df = pd.DataFrame(MyData,columns= ['gender','emotion'])\n",
    "print (df)"
   ]
  },
  {
   "cell_type": "markdown",
   "id": "a9c3f385",
   "metadata": {},
   "source": [
    "#### Creating a dataframe for emotions associated with women"
   ]
  },
  {
   "cell_type": "code",
   "execution_count": 5,
   "id": "a82e16ae",
   "metadata": {},
   "outputs": [
    {
     "name": "stdout",
     "output_type": "stream",
     "text": [
      "0          happy\n",
      "1          happy\n",
      "6          happy\n",
      "8            sad\n",
      "15           sad\n",
      "          ...   \n",
      "32177      happy\n",
      "32178        sad\n",
      "32183       fear\n",
      "32190    neutral\n",
      "32191      happy\n",
      "Name: emotion, Length: 10155, dtype: object\n"
     ]
    }
   ],
   "source": [
    "df_woman = df.query('gender == \"woman\"')['emotion']\n",
    "print (df_woman)"
   ]
  },
  {
   "cell_type": "code",
   "execution_count": 70,
   "id": "e5438981",
   "metadata": {},
   "outputs": [
    {
     "name": "stdout",
     "output_type": "stream",
     "text": [
      "['happy' 'sad' 'angry' 'neutral' 'surprise' 'fear' 'disgust']\n"
     ]
    }
   ],
   "source": [
    "print(df_woman.unique())"
   ]
  },
  {
   "cell_type": "markdown",
   "id": "bca7ea1d",
   "metadata": {},
   "source": [
    "#### Creating a dataframe for emotions associated with men"
   ]
  },
  {
   "cell_type": "code",
   "execution_count": 7,
   "id": "fa937eb9",
   "metadata": {},
   "outputs": [
    {
     "name": "stdout",
     "output_type": "stream",
     "text": [
      "2           angry\n",
      "3             sad\n",
      "4           angry\n",
      "5             sad\n",
      "7             sad\n",
      "           ...   \n",
      "32192       happy\n",
      "32193     neutral\n",
      "32194     neutral\n",
      "32195       happy\n",
      "32196    surprise\n",
      "Name: emotion, Length: 22042, dtype: object\n"
     ]
    }
   ],
   "source": [
    "df_man = df.query('gender == \"man\"')['emotion']\n",
    "print (df_man)"
   ]
  },
  {
   "cell_type": "code",
   "execution_count": 75,
   "id": "5eb118e3",
   "metadata": {},
   "outputs": [
    {
     "name": "stdout",
     "output_type": "stream",
     "text": [
      "['angry' 'sad' 'neutral' 'happy' 'fear' 'surprise' 'disgust']\n"
     ]
    }
   ],
   "source": [
    "print(df_man.unique())"
   ]
  },
  {
   "cell_type": "markdown",
   "id": "9c126f0f",
   "metadata": {},
   "source": [
    "#### Displaying pie chart for emotions of women - Method-1"
   ]
  },
  {
   "cell_type": "code",
   "execution_count": 86,
   "id": "4cb7fded",
   "metadata": {},
   "outputs": [],
   "source": [
    "hcount=0\n",
    "sadcount=0\n",
    "acount=0\n",
    "ncount=0\n",
    "supcount=0\n",
    "fcount=0\n",
    "dcount=0\n",
    "for i in df_woman:\n",
    "    if i ==\"happy\":\n",
    "        hcount+=1\n",
    "    if i ==\"sad\":\n",
    "        sadcount+=1\n",
    "    if i ==\"angry\":\n",
    "        acount+=1\n",
    "    if i ==\"neutral\":\n",
    "        ncount+=1\n",
    "    if i ==\"surprise\":\n",
    "        supcount+=1\n",
    "    if i ==\"fear\":\n",
    "        fcount+=1\n",
    "    if i ==\"disgust\":\n",
    "        dcount+=1"
   ]
  },
  {
   "cell_type": "code",
   "execution_count": 85,
   "id": "e9200e43",
   "metadata": {},
   "outputs": [
    {
     "data": {
      "image/png": "[encoded data removed]",
      "text/plain": [
       "<Figure size 432x288 with 1 Axes>"
      ]
     },
     "metadata": {},
     "output_type": "display_data"
    }
   ],
   "source": [
    "import matplotlib.pyplot as plt\n",
    "import numpy as np\n",
    "y=np.array([hcount,sadcount,acount,ncount,supcount,fcount,dcount])\n",
    "mylabels = ['happy','sad', 'angry', 'neutral', 'surprise', 'fear', 'disgust']\n",
    "plt.title('EMOTIONS of WOMAN', fontsize = 20)\n",
    "plt.pie(y, labels = mylabels,autopct='%1.1f%%')\n",
    "plt.show()"
   ]
  },
  {
   "cell_type": "markdown",
   "id": "dd3e785d",
   "metadata": {},
   "source": [
    "#### Displaying pie chart for emotions of men - Method-1"
   ]
  },
  {
   "cell_type": "code",
   "execution_count": 89,
   "id": "f0953b98",
   "metadata": {},
   "outputs": [],
   "source": [
    "mhcount=0\n",
    "msadcount=0\n",
    "macount=0\n",
    "mncount=0\n",
    "msupcount=0\n",
    "mfcount=0\n",
    "mdcount=0\n",
    "for i in df_man:\n",
    "    if i ==\"happy\":\n",
    "        mhcount+=1\n",
    "    if i ==\"sad\":\n",
    "        msadcount+=1\n",
    "    if i ==\"angry\":\n",
    "        macount+=1\n",
    "    if i ==\"neutral\":\n",
    "        mncount+=1\n",
    "    if i ==\"surprise\":\n",
    "        msupcount+=1\n",
    "    if i ==\"fear\":\n",
    "        mfcount+=1\n",
    "    if i ==\"disgust\":\n",
    "        mdcount+=1"
   ]
  },
  {
   "cell_type": "code",
   "execution_count": 90,
   "id": "bbf73753",
   "metadata": {},
   "outputs": [
    {
     "data": {
      "image/png": "[encoded data removed]",
      "text/plain": [
       "<Figure size 432x288 with 1 Axes>"
      ]
     },
     "metadata": {},
     "output_type": "display_data"
    }
   ],
   "source": [
    "import matplotlib.pyplot as plt\n",
    "import numpy as np\n",
    "y=np.array([mhcount,msadcount,macount,mncount,msupcount,mfcount,mdcount])\n",
    "mylabels = ['happy','sad', 'angry', 'neutral', 'surprise', 'fear', 'disgust']\n",
    "plt.title('EMOTIONS of MAN', fontsize = 20)\n",
    "plt.pie(y, labels = mylabels,autopct='%1.1f%%')\n",
    "plt.show()"
   ]
  },
  {
   "cell_type": "markdown",
   "id": "034e5101",
   "metadata": {},
   "source": [
    "#### Displaying pie chart for emotions of men - Method-2"
   ]
  },
  {
   "cell_type": "code",
   "execution_count": 91,
   "id": "00853bf0",
   "metadata": {},
   "outputs": [
    {
     "data": {
      "image/png": "[encoded data removed]",
      "text/plain": [
       "<Figure size 432x288 with 1 Axes>"
      ]
     },
     "metadata": {},
     "output_type": "display_data"
    }
   ],
   "source": [
    "mylabels = ['angry', 'sad', 'neutral', 'happy', 'fear', 'surprise', 'disgust']\n",
    "df_man.value_counts().plot.pie()\n",
    "plt.title('EMOTIONS of MAN', fontsize = 20)\n",
    "plt.show()"
   ]
  },
  {
   "cell_type": "markdown",
   "id": "42325aa5",
   "metadata": {},
   "source": [
    "#### Displaying pie chart for emotions of women - Method-2"
   ]
  },
  {
   "cell_type": "code",
   "execution_count": 92,
   "id": "6a391cfd",
   "metadata": {},
   "outputs": [
    {
     "data": {
      "image/png": "[encoded data removed]",
      "text/plain": [
       "<Figure size 432x288 with 1 Axes>"
      ]
     },
     "metadata": {},
     "output_type": "display_data"
    }
   ],
   "source": [
    "mylabels = ['happy','sad', 'angry', 'neutral', 'surprise', 'fear', 'disgust']\n",
    "df_woman.value_counts().plot.pie()\n",
    "plt.title('EMOTIONS of WOMAN', fontsize = 20)\n",
    "plt.show()"
   ]
  },
  {
   "cell_type": "markdown",
   "id": "53fb4b33",
   "metadata": {},
   "source": [
    "#### Comparing the number of appearances of men and women"
   ]
  },
  {
   "cell_type": "code",
   "execution_count": 6,
   "id": "fe168157",
   "metadata": {},
   "outputs": [
    {
     "name": "stdout",
     "output_type": "stream",
     "text": [
      "sad         2616\n",
      "happy       2491\n",
      "neutral     2250\n",
      "angry       1148\n",
      "fear         982\n",
      "surprise     555\n",
      "disgust      113\n",
      "Name: emotion, dtype: int64\n"
     ]
    }
   ],
   "source": [
    "print(df_woman.value_counts())"
   ]
  },
  {
   "cell_type": "code",
   "execution_count": 8,
   "id": "0db063a1",
   "metadata": {},
   "outputs": [
    {
     "name": "stdout",
     "output_type": "stream",
     "text": [
      "neutral     5890\n",
      "sad         5193\n",
      "angry       4248\n",
      "happy       4181\n",
      "fear        1630\n",
      "surprise     712\n",
      "disgust      188\n",
      "Name: emotion, dtype: int64\n"
     ]
    }
   ],
   "source": [
    "print(df_man.value_counts())"
   ]
  }
 ],
 "metadata": {
  "kernelspec": {
   "display_name": "Python 3",
   "language": "python",
   "name": "python3"
  },
  "language_info": {
   "codemirror_mode": {
    "name": "ipython",
    "version": 3
   },
   "file_extension": ".py",
   "mimetype": "text/x-python",
   "name": "python",
   "nbconvert_exporter": "python",
   "pygments_lexer": "ipython3",
   "version": "3.8.8"
  }
 },
 "nbformat": 4,
 "nbformat_minor": 5
}
